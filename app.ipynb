{
 "cells": [
  {
   "cell_type": "code",
   "execution_count": 6,
   "metadata": {},
   "outputs": [
    {
     "name": "stdout",
     "output_type": "stream",
     "text": [
      "[False False  True  True  True]\n",
      "[30 40 50]\n",
      "[ 5 10]\n"
     ]
    }
   ],
   "source": [
    "import numpy as np\n",
    "\n",
    "#Boolean Indexing in numPy\n",
    "array_1 = np.array([10,20,30,40,50])\n",
    "array_2 = np.array([5,10,15,20,25])\n",
    "condition = array_1 > 25\n",
    "condition_2 = array_1 < 25\n",
    "print(condition)\n",
    "print(array_1[condition])\n",
    "print(array_2[condition_2])\n"
   ]
  },
  {
   "cell_type": "code",
   "execution_count": 7,
   "metadata": {},
   "outputs": [
    {
     "name": "stdout",
     "output_type": "stream",
     "text": [
      "[30 40 50]\n"
     ]
    }
   ],
   "source": [
    "#another way\n",
    "\n",
    "array_1 = np.array([10,20,30,40,50])\n",
    "filtered_array = array_1[array_1 > 25]\n",
    "print(filtered_array)\n"
   ]
  },
  {
   "cell_type": "code",
   "execution_count": 11,
   "metadata": {},
   "outputs": [
    {
     "name": "stdout",
     "output_type": "stream",
     "text": [
      "[30]\n",
      "[ 5 10 15]\n",
      "[ 5 10 15]\n"
     ]
    }
   ],
   "source": [
    "#combining multiple conditions\n",
    "\n",
    "array_1 = np.array([10,20,30,40,50])\n",
    "filtered_array = array_1[(array_1 > 25) & (array_1 < 40)] #and\n",
    "print(filtered_array)\n",
    "\n",
    "array_2 = np.array([5,10,15,20,25])\n",
    "filtered_array_2 = array_2[(array_2 > 25) | (array_2 < 20)] #or\n",
    "print(filtered_array_2)\n",
    "\n",
    "array_3 = np.array([5,10,15,20,25])\n",
    "filtered_array_3 = array_3[(array_3 > 25) ^ (array_3 < 20)] #xor\n",
    "print(filtered_array_3)"
   ]
  },
  {
   "cell_type": "code",
   "execution_count": 16,
   "metadata": {},
   "outputs": [
    {
     "name": "stdout",
     "output_type": "stream",
     "text": [
      "[0. 0. 0. 0. 0.]\n",
      "[[0. 0. 0.]\n",
      " [0. 0. 0.]]\n",
      "[0. 0. 0.]\n"
     ]
    }
   ],
   "source": [
    "#Array Initialization\n",
    "array_1 = np.zeros(5)\n",
    "print(array_1)  \n",
    "\n",
    "array_2 = np.zeros((2,3))\n",
    "print(array_2)\n",
    "\n",
    "array_3 = np.zeros(3,dtype=float)\n",
    "print(array_3)\n",
    "\n"
   ]
  },
  {
   "cell_type": "code",
   "execution_count": 19,
   "metadata": {},
   "outputs": [
    {
     "name": "stdout",
     "output_type": "stream",
     "text": [
      "[10 10 10 10 10]\n",
      "-------------\n",
      "[[10 10 10]\n",
      " [10 10 10]]\n",
      "-------------\n",
      "[10. 10. 10.]\n"
     ]
    }
   ],
   "source": [
    "#np.full\n",
    "array_1 = np.full(5,10)\n",
    "print(array_1)\n",
    "print(\"-------------\")\n",
    "\n",
    "array_2 = np.full((2,3),10)\n",
    "print(array_2)\n",
    "print(\"-------------\")\n",
    "\n",
    "array_3 = np.full(3,10,dtype=float)\n",
    "print(array_3)"
   ]
  },
  {
   "cell_type": "code",
   "execution_count": 25,
   "metadata": {},
   "outputs": [
    {
     "name": "stdout",
     "output_type": "stream",
     "text": [
      "[[5.e-323 5.e-323 5.e-323]\n",
      " [5.e-323 5.e-323 5.e-323]]\n",
      "-------------\n"
     ]
    }
   ],
   "source": [
    "#empty\n",
    "array_2 = np.empty((2,3))\n",
    "print(array_2)\n",
    "print(\"-------------\")\n",
    "\n"
   ]
  },
  {
   "cell_type": "code",
   "execution_count": 30,
   "metadata": {},
   "outputs": [
    {
     "name": "stdout",
     "output_type": "stream",
     "text": [
      "[ 2  4  6  8 10 12 14 16 18 20]\n"
     ]
    }
   ],
   "source": [
    "#create a 1d numbpy array with arrays from 1 to 20 .use boolean index to extarct all even numbers.\n",
    "\n",
    "array_1 = np.array([1,2,3,4,5,6,7,8,9,10,11,12,13,14,15,16,17,18,19,20])\n",
    "print(array_1[array_1 % 2 == 0])\n",
    "\n"
   ]
  },
  {
   "cell_type": "code",
   "execution_count": 31,
   "metadata": {},
   "outputs": [
    {
     "name": "stdout",
     "output_type": "stream",
     "text": [
      "[40 50]\n"
     ]
    }
   ],
   "source": [
    "#create a 1d  numpy array with elemnets 10,20,30,40,50.use boolen index into extract all elements greater than the mean of the array\n",
    "\n",
    "array_1 = np.array([10,20,30,40,50])\n",
    "mean = np.mean(array_1)\n",
    "print(array_1[array_1 > mean])\n"
   ]
  }
 ],
 "metadata": {
  "kernelspec": {
   "display_name": ".venv",
   "language": "python",
   "name": "python3"
  },
  "language_info": {
   "codemirror_mode": {
    "name": "ipython",
    "version": 3
   },
   "file_extension": ".py",
   "mimetype": "text/x-python",
   "name": "python",
   "nbconvert_exporter": "python",
   "pygments_lexer": "ipython3",
   "version": "3.13.0"
  }
 },
 "nbformat": 4,
 "nbformat_minor": 2
}
