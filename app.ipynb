{
 "cells": [
  {
   "cell_type": "code",
   "execution_count": 6,
   "metadata": {},
   "outputs": [
    {
     "name": "stdout",
     "output_type": "stream",
     "text": [
      "[False False  True  True  True]\n",
      "[30 40 50]\n",
      "[ 5 10]\n"
     ]
    }
   ],
   "source": [
    "import numpy as np\n",
    "\n",
    "#Boolean Indexing in numPy\n",
    "array_1 = np.array([10,20,30,40,50])\n",
    "array_2 = np.array([5,10,15,20,25])\n",
    "condition = array_1 > 25\n",
    "condition_2 = array_1 < 25\n",
    "print(condition)\n",
    "print(array_1[condition])\n",
    "print(array_2[condition_2])\n"
   ]
  },
  {
   "cell_type": "code",
   "execution_count": 7,
   "metadata": {},
   "outputs": [
    {
     "name": "stdout",
     "output_type": "stream",
     "text": [
      "[30 40 50]\n"
     ]
    }
   ],
   "source": [
    "#another way\n",
    "\n",
    "array_1 = np.array([10,20,30,40,50])\n",
    "filtered_array = array_1[array_1 > 25]\n",
    "print(filtered_array)\n"
   ]
  },
  {
   "cell_type": "code",
   "execution_count": 11,
   "metadata": {},
   "outputs": [
    {
     "name": "stdout",
     "output_type": "stream",
     "text": [
      "[30]\n",
      "[ 5 10 15]\n",
      "[ 5 10 15]\n"
     ]
    }
   ],
   "source": [
    "#combining multiple conditions\n",
    "\n",
    "array_1 = np.array([10,20,30,40,50])\n",
    "filtered_array = array_1[(array_1 > 25) & (array_1 < 40)] #and\n",
    "print(filtered_array)\n",
    "\n",
    "array_2 = np.array([5,10,15,20,25])\n",
    "filtered_array_2 = array_2[(array_2 > 25) | (array_2 < 20)] #or\n",
    "print(filtered_array_2)\n",
    "\n",
    "array_3 = np.array([5,10,15,20,25])\n",
    "filtered_array_3 = array_3[(array_3 > 25) ^ (array_3 < 20)] #xor\n",
    "print(filtered_array_3)"
   ]
  },
  {
   "cell_type": "code",
   "execution_count": 16,
   "metadata": {},
   "outputs": [
    {
     "name": "stdout",
     "output_type": "stream",
     "text": [
      "[0. 0. 0. 0. 0.]\n",
      "[[0. 0. 0.]\n",
      " [0. 0. 0.]]\n",
      "[0. 0. 0.]\n"
     ]
    }
   ],
   "source": [
    "#Array Initialization\n",
    "array_1 = np.zeros(5)\n",
    "print(array_1)  \n",
    "\n",
    "array_2 = np.zeros((2,3))\n",
    "print(array_2)\n",
    "\n",
    "array_3 = np.zeros(3,dtype=float)\n",
    "print(array_3)\n",
    "\n"
   ]
  },
  {
   "cell_type": "code",
   "execution_count": 19,
   "metadata": {},
   "outputs": [
    {
     "name": "stdout",
     "output_type": "stream",
     "text": [
      "[10 10 10 10 10]\n",
      "-------------\n",
      "[[10 10 10]\n",
      " [10 10 10]]\n",
      "-------------\n",
      "[10. 10. 10.]\n"
     ]
    }
   ],
   "source": [
    "#np.full\n",
    "array_1 = np.full(5,10)\n",
    "print(array_1)\n",
    "print(\"-------------\")\n",
    "\n",
    "array_2 = np.full((2,3),10)\n",
    "print(array_2)\n",
    "print(\"-------------\")\n",
    "\n",
    "array_3 = np.full(3,10,dtype=float)\n",
    "print(array_3)"
   ]
  },
  {
   "cell_type": "code",
   "execution_count": 25,
   "metadata": {},
   "outputs": [
    {
     "name": "stdout",
     "output_type": "stream",
     "text": [
      "[[5.e-323 5.e-323 5.e-323]\n",
      " [5.e-323 5.e-323 5.e-323]]\n",
      "-------------\n"
     ]
    }
   ],
   "source": [
    "#empty\n",
    "array_2 = np.empty((2,3))\n",
    "print(array_2)\n",
    "print(\"-------------\")\n",
    "\n"
   ]
  },
  {
   "cell_type": "code",
   "execution_count": 30,
   "metadata": {},
   "outputs": [
    {
     "name": "stdout",
     "output_type": "stream",
     "text": [
      "[ 2  4  6  8 10 12 14 16 18 20]\n"
     ]
    }
   ],
   "source": [
    "#create a 1d numbpy array with arrays from 1 to 20 .use boolean index to extarct all even numbers.\n",
    "\n",
    "array_1 = np.array([1,2,3,4,5,6,7,8,9,10,11,12,13,14,15,16,17,18,19,20])\n",
    "print(array_1[array_1 % 2 == 0])\n",
    "\n"
   ]
  },
  {
   "cell_type": "code",
   "execution_count": 32,
   "metadata": {},
   "outputs": [
    {
     "name": "stdout",
     "output_type": "stream",
     "text": [
      "30.0\n",
      "[40 50]\n"
     ]
    }
   ],
   "source": [
    "#create a 1d  numpy array with elemnets 10,20,30,40,50.use boolen index into extract all elements greater than the mean of the array\n",
    "\n",
    "array_1 = np.array([10,20,30,40,50])\n",
    "mean = np.mean(array_1)\n",
    "print(mean)\n",
    "print(array_1[array_1 > mean])\n"
   ]
  },
  {
   "cell_type": "code",
   "execution_count": null,
   "metadata": {},
   "outputs": [
    {
     "name": "stdout",
     "output_type": "stream",
     "text": [
      "     Name  Age\n",
      "0   Alice   25\n",
      "1     Bob   30\n",
      "2  Claire   35\n",
      "3   David   40\n",
      "<class 'pandas.core.frame.DataFrame'>\n",
      "Bob\n",
      "Bob\n"
     ]
    }
   ],
   "source": [
    "#Pandas library\n",
    "import pandas as pd\n",
    "#creating DataFrame\n",
    "\n",
    "data = {\n",
    "    'Name':['Alice','Bob','Claire','David'],\n",
    "    'Age':[25,30,35,40]\n",
    "}\n",
    "df = pd.DataFrame(data)\n",
    "print(df)\n",
    "print(type(df)) \n",
    "#accesing cells  in a dataframe\n",
    "print(df.loc[1,\"Name\"])\n",
    "print(df.iloc[1,0])#index location"
   ]
  },
  {
   "cell_type": "code",
   "execution_count": 13,
   "metadata": {},
   "outputs": [
    {
     "name": "stdout",
     "output_type": "stream",
     "text": [
      "Name    Bob\n",
      "Age      30\n",
      "Name: 1, dtype: object\n",
      "-------------\n",
      "    Name  Age\n",
      "0  Alice   25\n",
      "1    Bob   30\n"
     ]
    }
   ],
   "source": [
    "#locate row\n",
    "\n",
    "data = {\n",
    "    'Name':['Alice','Bob','Claire','David'],\n",
    "    'Age':[25,30,35,40]\n",
    "}\n",
    "df = pd.DataFrame(data)\n",
    "print(df.loc[1])#returns the row \n",
    "print(\"-------------\")\n",
    "print(df.loc[[0,1]])#returns multiple rows\n"
   ]
  },
  {
   "cell_type": "code",
   "execution_count": 12,
   "metadata": {},
   "outputs": [
    {
     "name": "stdout",
     "output_type": "stream",
     "text": [
      "          Name  Age  Address\n",
      "Row -1   Alice   25   Matara\n",
      "Row -2     Bob   30  Hakmana\n",
      "Row -3  Claire   35    Kandy\n",
      "Row -4   David   40    Galle\n",
      "-------------------\n",
      "          Name  Age  Address\n",
      "Row -2     Bob   30  Hakmana\n",
      "Row -3  Claire   35    Kandy\n",
      "-------------------\n",
      "Row -1    25\n",
      "Row -2    30\n",
      "Row -3    35\n",
      "Row -4    40\n",
      "Name: Age, dtype: int64\n",
      "-------------------\n",
      "Dimension : (4, 3)\n",
      "-------------------\n",
      "Index(['Name', 'Age', 'Address'], dtype='object')\n",
      "['Name', 'Age', 'Address']\n"
     ]
    }
   ],
   "source": [
    "#Named Index\n",
    "import pandas as pd\n",
    "data = {\n",
    "    'Name':['Alice','Bob','Claire','David'],\n",
    "    'Age':[25,30,35,40],\n",
    "    'Address':['Matara','Hakmana','Kandy','Galle']\n",
    "}\n",
    "df =pd.DataFrame(data,index=['Row -1','Row -2','Row -3','Row -4'])\n",
    "print(df)\n",
    "print(\"-------------------\")\n",
    "print(df.loc[['Row -2','Row -3']])\n",
    "print(\"-------------------\")\n",
    "print(df['Age'])\n",
    "print(\"-------------------\")\n",
    "print(\"Dimension :\",df.shape)\n",
    "print(\"-------------------\")\n",
    "print(df.columns)\n",
    "print(list(df.columns))\n"
   ]
  },
  {
   "cell_type": "code",
   "execution_count": 2,
   "metadata": {},
   "outputs": [
    {
     "name": "stdout",
     "output_type": "stream",
     "text": [
      "12\n"
     ]
    }
   ],
   "source": [
    "#DataFrame size\n",
    "import pandas as pd\n",
    "df = pd.DataFrame({\n",
    "    'Name':['Alice','Bob','Claire','David'],\n",
    "    'Age':[25,30,35,40],\n",
    "    'Address':['Matara','Hakmana','Kandy','Galle']\n",
    "})\n",
    "print(df.size)\n",
    "\n"
   ]
  },
  {
   "cell_type": "code",
   "execution_count": 4,
   "metadata": {},
   "outputs": [
    {
     "name": "stdout",
     "output_type": "stream",
     "text": [
      "[['Alice' 25 'Matara']\n",
      " ['Bob' 30 'Hakmana']\n",
      " ['Claire' 35 'Kandy']\n",
      " ['David' 40 'Galle']]\n",
      "<class 'numpy.ndarray'>\n"
     ]
    }
   ],
   "source": [
    "#DataFrame.values\n",
    "#returns the data as a numPy Array\n",
    "\n",
    "import pandas as pd\n",
    "df = pd.DataFrame({\n",
    "    'Name':['Alice','Bob','Claire','David'],\n",
    "    'Age':[25,30,35,40],\n",
    "    'Address':['Matara','Hakmana','Kandy','Galle']\n",
    "})\n",
    "print(df.values)\n",
    "print(type(df.values))\n",
    "\n"
   ]
  },
  {
   "cell_type": "code",
   "execution_count": 4,
   "metadata": {},
   "outputs": [
    {
     "name": "stdout",
     "output_type": "stream",
     "text": [
      "4\n"
     ]
    }
   ],
   "source": [
    "import pandas as pd\n",
    "data = {\n",
    "    'Name':['Alice','Bob','Claire','David'],\n",
    "    'Age':[25,30,35,40],\n",
    "    'Address':['Matara','Hakmana','Kandy','Galle']\n",
    "}\n",
    "df = pd.DataFrame(data)\n",
    "print(len(df))\n"
   ]
  },
  {
   "cell_type": "code",
   "execution_count": 23,
   "metadata": {},
   "outputs": [
    {
     "name": "stdout",
     "output_type": "stream",
     "text": [
      "  orderId     product     category  quantity  price per unit Region  \\\n",
      "0     101      Laptop  Electronics         2            1000  North   \n",
      "1     102  SmartPhone  Electronics         5             800  South   \n",
      "2     103  Desk chair    Furniture        10             150   East   \n",
      "3     104     Monitor  Electronics         4             200   West   \n",
      "4     105   Bookshelf    Furniture         2             300  North   \n",
      "\n",
      "   total revenue  \n",
      "0           2000  \n",
      "1           4000  \n",
      "2           1500  \n",
      "3            800  \n",
      "4            600  \n",
      "4000\n",
      "  orderId     product     category  quantity  price per unit Region  \\\n",
      "1     102  SmartPhone  Electronics         5             800  South   \n",
      "\n",
      "   total revenue  \n",
      "1           4000  \n"
     ]
    }
   ],
   "source": [
    "#you are a data anylists for a companay,the company has provide with you with the above table containig sales data,your task is to anlyist \n",
    "#the sales data using python and pandas to answers some key business quetions,\n",
    "#calculate the total revenue for ecach order - add a new coloumn total revenue to store  the total revenue for each\n",
    "#identify the best selling products\n",
    "#find the product with the higehst total sales revenue\n",
    "import pandas as pd\n",
    "data ={\n",
    "    \"orderId\" :['101','102','103','104','105'],\n",
    "    \"product\" :['Laptop','SmartPhone','Desk chair','Monitor','Bookshelf'],\n",
    "    \"category\" :['Electronics','Electronics','Furniture','Electronics','Furniture'],\n",
    "    \"quantity\" :[2,5,10,4,2],\n",
    "    \"price per unit\":[1000,800,150,200,300],\n",
    "    \"Region\":[\"North\",\"South\",\"East\",\"West\",\"North\"]\n",
    "}\n",
    "df = pd.DataFrame(data)\n",
    "df[\"total revenue\"] = df[\"quantity\"] * df[\"price per unit\"]\n",
    "print(df)\n",
    "# best_selling_product = max(df[\"quantity\"])\n",
    "# qty_sold_list = df[\"quantity\"].values\n",
    "# max_index = list(qty_sold_list).index(best_selling_product)\n",
    "# print(df.loc[[max_index]])\n",
    "\n",
    "best_sellling_product = df[\"total revenue\"].max()\n",
    "print(best_sellling_product)\n",
    "print(df[df[\"total revenue\"]== best_sellling_product])\n",
    "\n",
    "\n"
   ]
  },
  {
   "cell_type": "code",
   "execution_count": 14,
   "metadata": {},
   "outputs": [
    {
     "name": "stdout",
     "output_type": "stream",
     "text": [
      "age          41.333333\n",
      "salary    37666.666667\n",
      "dtype: float64\n",
      "---------------\n",
      "age          124\n",
      "salary    113000\n",
      "dtype: int64\n",
      "---------------\n",
      "             age        salary\n",
      "count   3.000000      3.000000\n",
      "mean   41.333333  37666.666667\n",
      "std    42.723920  46112.182049\n",
      "min    10.000000   3000.000000\n",
      "25%    17.000000  11500.000000\n",
      "50%    24.000000  20000.000000\n",
      "75%    57.000000  55000.000000\n",
      "max    90.000000  90000.000000\n"
     ]
    }
   ],
   "source": [
    "import pandas as pd\n",
    "\n",
    "data ={\n",
    "    'age':[24,90,10],\n",
    "    'salary':[20000,90000,3000]\n",
    "}\n",
    "df = pd.DataFrame(data)\n",
    "print(df.mean())\n",
    "print(\"---------------\")\n",
    "print(df.sum())\n",
    "print(\"---------------\")\n",
    "print(df.describe())\n",
    "\n"
   ]
  },
  {
   "cell_type": "code",
   "execution_count": 16,
   "metadata": {},
   "outputs": [
    {
     "name": "stdout",
     "output_type": "stream",
     "text": [
      "      name  age  score\n",
      "0    Tharu   24  20000\n",
      "1    Kusal   90  90000\n",
      "2  Sameera   10   3000\n",
      "3     Ashi   45    800\n",
      "----------------------\n",
      "    name  age  score\n",
      "1  Kusal   90  90000\n",
      "3   Ashi   45    800 <class 'pandas.core.frame.DataFrame'>\n"
     ]
    }
   ],
   "source": [
    "import pandas as pd\n",
    "\n",
    "data ={\n",
    "    'name':[\"Tharu\",\"Kusal\",\"Sameera\",\"Ashi\"],\n",
    "    'age':[24,90,10,45],\n",
    "    'score':[20000,90000,3000,800]\n",
    "}\n",
    "df =pd.DataFrame(data)\n",
    "print(df)\n",
    "print('----------------------')\n",
    "filtered_dataframe = df[df[\"age\"]> 25]\n",
    "print(filtered_dataframe,type(filtered_dataframe))"
   ]
  },
  {
   "cell_type": "code",
   "execution_count": 28,
   "metadata": {},
   "outputs": [
    {
     "name": "stdout",
     "output_type": "stream",
     "text": [
      "    A   B\n",
      "0  10  11\n",
      "1  20  90\n",
      "2  10  56\n"
     ]
    }
   ],
   "source": [
    "#adding new row end\n",
    "import pandas as pd\n",
    "\n",
    "df = pd.DataFrame({'A':[10,20],'B':[11,90]})\n",
    "df.loc[len(df)] = [10,56]\n",
    "print(df)\n"
   ]
  },
  {
   "cell_type": "code",
   "execution_count": 34,
   "metadata": {},
   "outputs": [
    {
     "name": "stdout",
     "output_type": "stream",
     "text": [
      "      name  score\n",
      "0    Tharu  20000\n",
      "1    Kusal  90000\n",
      "2  Sameera   3000\n",
      "3     Ashi    800\n",
      "-------------------------\n",
      "      name  age  score\n",
      "0    Tharu   24  20000\n",
      "2  Sameera   10   3000\n",
      "3     Ashi   45    800\n"
     ]
    }
   ],
   "source": [
    "#removing row and column\n",
    "# if axis = 1 remove the column\n",
    "# if axis = 0 remove the row\n",
    "import pandas as pd\n",
    "\n",
    "data ={\n",
    "    'name':[\"Tharu\",\"Kusal\",\"Sameera\",\"Ashi\"],\n",
    "    'age':[24,90,10,45],\n",
    "    'score':[20000,90000,3000,800]\n",
    "}\n",
    "df =pd.DataFrame(data)\n",
    "df_dropped = df.drop('age',axis=1)\n",
    "print(df_dropped)\n",
    "print('-------------------------')\n",
    "df_dropped_row = df.drop(1,axis=0)\n",
    "print(df_dropped_row)\n",
    "\n"
   ]
  },
  {
   "cell_type": "code",
   "execution_count": 1,
   "metadata": {},
   "outputs": [
    {
     "name": "stdout",
     "output_type": "stream",
     "text": [
      "    Index      Customer Id First Name Last Name  \\\n",
      "0       1  DD37Cf93aecA6Dc     Sheryl    Baxter   \n",
      "1       2  1Ef7b82A4CAAD10    Preston    Lozano   \n",
      "2       3  6F94879bDAfE5a6        Roy     Berry   \n",
      "3       4  5Cef8BFA16c5e3c      Linda     Olsen   \n",
      "4       5  053d585Ab6b3159     Joanna    Bender   \n",
      "..    ...              ...        ...       ...   \n",
      "95     96  cb8E23e48d22Eae       Karl     Greer   \n",
      "96     97  CeD220bdAaCfaDf       Lynn  Atkinson   \n",
      "97     98  28CDbC0dFe4b1Db       Fred    Guerra   \n",
      "98     99  c23d1D9EE8DEB0A     Yvonne    Farmer   \n",
      "99    100  2354a0E336A91A1   Clarence    Haynes   \n",
      "\n",
      "                            Company               City  \\\n",
      "0                   Rasmussen Group       East Leonard   \n",
      "1                       Vega-Gentry  East Jimmychester   \n",
      "2                     Murillo-Perry      Isabelborough   \n",
      "3   Dominguez, Mcmillan and Donovan         Bensonview   \n",
      "4          Martin, Lang and Andrade     West Priscilla   \n",
      "..                              ...                ...   \n",
      "95                        Carey LLC       East Richard   \n",
      "96            Ware, Burns and Oneal       New Bradview   \n",
      "97                    Schmitt-Jones         Ortegaland   \n",
      "98               Fitzgerald-Harrell    Lake Elijahview   \n",
      "99               Le, Nash and Cross          Judymouth   \n",
      "\n",
      "                       Country                 Phone 1  \\\n",
      "0                        Chile            229.077.5154   \n",
      "1                     Djibouti              5153435776   \n",
      "2          Antigua and Barbuda         +1-539-402-0259   \n",
      "3           Dominican Republic  001-808-617-6467x12895   \n",
      "4   Slovakia (Slovak Republic)  001-234-203-0635x76146   \n",
      "..                         ...                     ...   \n",
      "95                      Guyana     (188)169-1674x58692   \n",
      "96                   Sri Lanka         +1-846-706-2218   \n",
      "97             Solomon Islands    +1-753-067-8419x7170   \n",
      "98                       Aruba           (530)311-9786   \n",
      "99                    Honduras           (753)813-6941   \n",
      "\n",
      "                   Phone 2                           Email Subscription Date  \\\n",
      "0         397.884.0519x718        zunigavanessa@smith.info        2020-08-24   \n",
      "1         686-620-1820x944                 vmata@colon.com        2021-04-23   \n",
      "2      (496)978-3969x58947             beckycarr@hogan.com        2020-03-25   \n",
      "3          +1-813-324-8756     stanleyblackwell@benson.org        2020-06-02   \n",
      "4    001-199-446-3860x3486         colinalvarado@miles.net        2021-04-17   \n",
      "..                     ...                             ...               ...   \n",
      "95    001-841-293-3519x614                hhart@jensen.com        2022-01-30   \n",
      "96            605.413.3198               vkemp@ferrell.com        2021-07-10   \n",
      "97   +1-632-666-7507x92121                swagner@kane.org        2021-09-18   \n",
      "98  001-869-452-0943x12424  mccarthystephen@horn-green.biz        2021-08-11   \n",
      "99            783.639.1472          colleen91@faulkner.biz        2020-03-11   \n",
      "\n",
      "                              Website  \n",
      "0          http://www.stephenson.com/  \n",
      "1               http://www.hobbs.com/  \n",
      "2            http://www.lawrence.com/  \n",
      "3          http://www.good-lyons.com/  \n",
      "4         https://goodwin-ingram.com/  \n",
      "..                                ...  \n",
      "95            http://hayes-perez.com/  \n",
      "96         https://novak-allison.com/  \n",
      "97              https://www.ross.com/  \n",
      "98               http://watkins.info/  \n",
      "99  http://www.hatfield-saunders.net/  \n",
      "\n",
      "[100 rows x 12 columns]\n"
     ]
    }
   ],
   "source": [
    "#read CSV files\n",
    "\n",
    "import pandas as pd\n",
    "\n",
    "df = pd.read_csv('customers-100.csv')\n",
    "print(df)"
   ]
  },
  {
   "cell_type": "code",
   "execution_count": 9,
   "metadata": {},
   "outputs": [
    {
     "name": "stdout",
     "output_type": "stream",
     "text": [
      "   fruit   size color\n",
      "0  Apple  Large   Red\n",
      "1  Apple  Large   Red\n",
      "2  Apple  Large   Red\n"
     ]
    }
   ],
   "source": [
    "#read CSV files\n",
    "\n",
    "import pandas as pd\n",
    "\n",
    "df1 = pd.read_json('example_1.json')\n",
    "print(df1)"
   ]
  }
 ],
 "metadata": {
  "kernelspec": {
   "display_name": ".venv",
   "language": "python",
   "name": "python3"
  },
  "language_info": {
   "codemirror_mode": {
    "name": "ipython",
    "version": 3
   },
   "file_extension": ".py",
   "mimetype": "text/x-python",
   "name": "python",
   "nbconvert_exporter": "python",
   "pygments_lexer": "ipython3",
   "version": "3.13.0"
  }
 },
 "nbformat": 4,
 "nbformat_minor": 2
}
